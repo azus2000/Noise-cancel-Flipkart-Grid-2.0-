{
 "cells": [
  {
   "cell_type": "code",
   "execution_count": 1,
   "metadata": {},
   "outputs": [
    {
     "name": "stdout",
     "output_type": "stream",
     "text": [
      "Note: you may need to restart the kernel to use updated packages.\n"
     ]
    },
    {
     "name": "stderr",
     "output_type": "stream",
     "text": [
      "\n",
      "Usage:   \n",
      "  D:\\Downloads\\ANACONDA\\python.exe -m pip install [options] <requirement specifier> [package-index-options] ...\n",
      "  D:\\Downloads\\ANACONDA\\python.exe -m pip install [options] -r <requirements file> [package-index-options] ...\n",
      "  D:\\Downloads\\ANACONDA\\python.exe -m pip install [options] [-e] <vcs project url> ...\n",
      "  D:\\Downloads\\ANACONDA\\python.exe -m pip install [options] [-e] <local project path> ...\n",
      "  D:\\Downloads\\ANACONDA\\python.exe -m pip install [options] <archive url/path> ...\n",
      "\n",
      "no such option: -u\n"
     ]
    }
   ],
   "source": [
    "pip install -user PyAudio\n"
   ]
  },
  {
   "cell_type": "code",
   "execution_count": 2,
   "metadata": {},
   "outputs": [
    {
     "name": "stderr",
     "output_type": "stream",
     "text": [
      "C:\\Users\\PRANAB DAS\\PycharmProjects\\Flipkart_Grid 2.0\\noisereduce\\noisereduce\\noisereduce.py:5: TqdmExperimentalWarning: Using `tqdm.autonotebook.tqdm` in notebook mode. Use `tqdm.tqdm` instead to force console mode (e.g. in jupyter console)\n",
      "  from tqdm.autonotebook import tqdm\n"
     ]
    }
   ],
   "source": [
    "import speech_recognition as sr\n",
    "import webbrowser as wb\n",
    "import noisereduce as nr"
   ]
  },
  {
   "cell_type": "code",
   "execution_count": 3,
   "metadata": {},
   "outputs": [
    {
     "name": "stdout",
     "output_type": "stream",
     "text": [
      "Hi I am Flipkart, \n",
      "How May I Help You ?\n"
     ]
    }
   ],
   "source": [
    "recog1 = sr.Recognizer()\n",
    "recog2 = sr.Recognizer()\n",
    "recog3 = sr.Recognizer()\n",
    "\n",
    "\n",
    "with sr.Microphone() as source:\n",
    "    print(\"Hi I am Flipkart, \")\n",
    "    print(\"How May I Help You ?\")\n",
    "    #rate, data = recog1.listen(source)\n",
    "    #noisy_part = data[10000:15000]\n",
    "    #audio = nr.reduce_noise(audio_clip=data, noise_clip=noisy_part, verbose=True)\n",
    "    audio = recog1.listen(source)\n",
    "if 'Hey flipkart' in recog2.recognize_google(audio):\n",
    "    recog2 = sr.Recognizer()\n",
    "    url ='https://www.flipkart.com/search?q='\n",
    "\n",
    "\n",
    "    with sr.Microphone() as source:\n",
    "        print('What are you searching for....')\n",
    "       # rate, data = recog2.listen(source)\n",
    "       # noisy_part = data[10000:15000]\n",
    "        #audio = nr.reduce_noise(audio_clip=data, noise_clip=noisy_part, verbose=True)\n",
    "        audio = recog2.listen(source)\n",
    "\n",
    "        try:\n",
    "            get_keyword = recog1.recognize_google(audio)\n",
    "            print(get_keyword)\n",
    "            wb.get().open_new(url+get_keyword)\n",
    "        except sr.UnknownValueError:\n",
    "                print(\"Sorry I can't Understand\")\n",
    "        except sr.RequestError as e:\n",
    "                print(\"Please try to speak one more time\".format(e))"
   ]
  },
  {
   "cell_type": "code",
   "execution_count": 4,
   "metadata": {},
   "outputs": [
    {
     "name": "stdout",
     "output_type": "stream",
     "text": [
      "Requirement already satisfied: SpeechRecognition in d:\\downloads\\anaconda\\lib\\site-packages (3.8.1)\n",
      "Note: you may need to restart the kernel to use updated packages.\n"
     ]
    }
   ],
   "source": [
    "pip install SpeechRecognition"
   ]
  },
  {
   "cell_type": "code",
   "execution_count": 5,
   "metadata": {},
   "outputs": [
    {
     "name": "stdout",
     "output_type": "stream",
     "text": [
      "Requirement already satisfied: noisereduce in d:\\downloads\\anaconda\\lib\\site-packages (1.1.0)\n",
      "Requirement already satisfied: tqdm in d:\\downloads\\anaconda\\lib\\site-packages (from noisereduce) (4.42.1)\n",
      "Requirement already satisfied: matplotlib in d:\\downloads\\anaconda\\lib\\site-packages (from noisereduce) (3.1.3)\n",
      "Requirement already satisfied: numpy in d:\\downloads\\anaconda\\lib\\site-packages (from noisereduce) (1.18.1)\n",
      "Requirement already satisfied: scipy in d:\\downloads\\anaconda\\lib\\site-packages (from noisereduce) (1.4.1)\n",
      "Requirement already satisfied: librosa in d:\\downloads\\anaconda\\lib\\site-packages (from noisereduce) (0.7.2)\n",
      "Requirement already satisfied: python-dateutil>=2.1 in d:\\downloads\\anaconda\\lib\\site-packages (from matplotlib->noisereduce) (2.8.1)\n",
      "Requirement already satisfied: cycler>=0.10 in d:\\downloads\\anaconda\\lib\\site-packages (from matplotlib->noisereduce) (0.10.0)\n",
      "Requirement already satisfied: kiwisolver>=1.0.1 in d:\\downloads\\anaconda\\lib\\site-packages (from matplotlib->noisereduce) (1.1.0)\n",
      "Requirement already satisfied: pyparsing!=2.0.4,!=2.1.2,!=2.1.6,>=2.0.1 in d:\\downloads\\anaconda\\lib\\site-packages (from matplotlib->noisereduce) (2.4.6)\n",
      "Requirement already satisfied: numba>=0.43.0 in d:\\downloads\\anaconda\\lib\\site-packages (from librosa->noisereduce) (0.48.0)\n",
      "Requirement already satisfied: joblib>=0.12 in d:\\downloads\\anaconda\\lib\\site-packages (from librosa->noisereduce) (0.14.1)\n",
      "Requirement already satisfied: decorator>=3.0.0 in d:\\downloads\\anaconda\\lib\\site-packages (from librosa->noisereduce) (4.4.1)\n",
      "Requirement already satisfied: scikit-learn!=0.19.0,>=0.14.0 in d:\\downloads\\anaconda\\lib\\site-packages (from librosa->noisereduce) (0.22.1)\n",
      "Requirement already satisfied: audioread>=2.0.0 in d:\\downloads\\anaconda\\lib\\site-packages (from librosa->noisereduce) (2.1.8)\n",
      "Requirement already satisfied: resampy>=0.2.2 in d:\\downloads\\anaconda\\lib\\site-packages (from librosa->noisereduce) (0.2.2)\n",
      "Requirement already satisfied: soundfile>=0.9.0 in d:\\downloads\\anaconda\\lib\\site-packages (from librosa->noisereduce) (0.10.3.post1)\n",
      "Requirement already satisfied: six>=1.3 in d:\\downloads\\anaconda\\lib\\site-packages (from librosa->noisereduce) (1.14.0)\n",
      "Requirement already satisfied: setuptools in d:\\downloads\\anaconda\\lib\\site-packages (from kiwisolver>=1.0.1->matplotlib->noisereduce) (45.2.0.post20200210)\n",
      "Requirement already satisfied: llvmlite<0.32.0,>=0.31.0dev0 in d:\\downloads\\anaconda\\lib\\site-packages (from numba>=0.43.0->librosa->noisereduce) (0.31.0)\n",
      "Requirement already satisfied: cffi>=1.0 in d:\\downloads\\anaconda\\lib\\site-packages (from soundfile>=0.9.0->librosa->noisereduce) (1.14.0)\n",
      "Requirement already satisfied: pycparser in d:\\downloads\\anaconda\\lib\\site-packages (from cffi>=1.0->soundfile>=0.9.0->librosa->noisereduce) (2.19)\n",
      "Note: you may need to restart the kernel to use updated packages.\n"
     ]
    }
   ],
   "source": [
    "pip install noisereduce"
   ]
  },
  {
   "cell_type": "code",
   "execution_count": 6,
   "metadata": {},
   "outputs": [],
   "source": [
    "import speech_recognition as sr\n",
    "import webbrowser as wb\n",
    "import noisereduce as nr"
   ]
  },
  {
   "cell_type": "code",
   "execution_count": 7,
   "metadata": {},
   "outputs": [
    {
     "name": "stdout",
     "output_type": "stream",
     "text": [
      "Hi I am Flipkart, \n",
      "How May I Help You ?\n"
     ]
    },
    {
     "ename": "UnknownValueError",
     "evalue": "",
     "output_type": "error",
     "traceback": [
      "\u001b[1;31m---------------------------------------------------------------------------\u001b[0m",
      "\u001b[1;31mUnknownValueError\u001b[0m                         Traceback (most recent call last)",
      "\u001b[1;32m<ipython-input-7-ae66c0cf4df7>\u001b[0m in \u001b[0;36m<module>\u001b[1;34m\u001b[0m\n\u001b[0;32m     11\u001b[0m     \u001b[1;31m#audio = nr.reduce_noise(audio_clip=data, noise_clip=noisy_part, verbose=True)\u001b[0m\u001b[1;33m\u001b[0m\u001b[1;33m\u001b[0m\u001b[1;33m\u001b[0m\u001b[0m\n\u001b[0;32m     12\u001b[0m     \u001b[0maudio\u001b[0m \u001b[1;33m=\u001b[0m \u001b[0mrecog1\u001b[0m\u001b[1;33m.\u001b[0m\u001b[0mlisten\u001b[0m\u001b[1;33m(\u001b[0m\u001b[0msource\u001b[0m\u001b[1;33m)\u001b[0m\u001b[1;33m\u001b[0m\u001b[1;33m\u001b[0m\u001b[0m\n\u001b[1;32m---> 13\u001b[1;33m \u001b[1;32mif\u001b[0m \u001b[1;34m'Hey flipkart'\u001b[0m \u001b[1;32min\u001b[0m \u001b[0mrecog2\u001b[0m\u001b[1;33m.\u001b[0m\u001b[0mrecognize_google\u001b[0m\u001b[1;33m(\u001b[0m\u001b[0maudio\u001b[0m\u001b[1;33m)\u001b[0m\u001b[1;33m:\u001b[0m\u001b[1;33m\u001b[0m\u001b[1;33m\u001b[0m\u001b[0m\n\u001b[0m\u001b[0;32m     14\u001b[0m     \u001b[0mrecog2\u001b[0m \u001b[1;33m=\u001b[0m \u001b[0msr\u001b[0m\u001b[1;33m.\u001b[0m\u001b[0mRecognizer\u001b[0m\u001b[1;33m(\u001b[0m\u001b[1;33m)\u001b[0m\u001b[1;33m\u001b[0m\u001b[1;33m\u001b[0m\u001b[0m\n\u001b[0;32m     15\u001b[0m     \u001b[0murl\u001b[0m \u001b[1;33m=\u001b[0m\u001b[1;34m'https://www.flipkart.com/search?q='\u001b[0m\u001b[1;33m\u001b[0m\u001b[1;33m\u001b[0m\u001b[0m\n",
      "\u001b[1;32mD:\\Downloads\\ANACONDA\\lib\\site-packages\\speech_recognition\\__init__.py\u001b[0m in \u001b[0;36mrecognize_google\u001b[1;34m(self, audio_data, key, language, show_all)\u001b[0m\n\u001b[0;32m    856\u001b[0m         \u001b[1;31m# return results\u001b[0m\u001b[1;33m\u001b[0m\u001b[1;33m\u001b[0m\u001b[1;33m\u001b[0m\u001b[0m\n\u001b[0;32m    857\u001b[0m         \u001b[1;32mif\u001b[0m \u001b[0mshow_all\u001b[0m\u001b[1;33m:\u001b[0m \u001b[1;32mreturn\u001b[0m \u001b[0mactual_result\u001b[0m\u001b[1;33m\u001b[0m\u001b[1;33m\u001b[0m\u001b[0m\n\u001b[1;32m--> 858\u001b[1;33m         \u001b[1;32mif\u001b[0m \u001b[1;32mnot\u001b[0m \u001b[0misinstance\u001b[0m\u001b[1;33m(\u001b[0m\u001b[0mactual_result\u001b[0m\u001b[1;33m,\u001b[0m \u001b[0mdict\u001b[0m\u001b[1;33m)\u001b[0m \u001b[1;32mor\u001b[0m \u001b[0mlen\u001b[0m\u001b[1;33m(\u001b[0m\u001b[0mactual_result\u001b[0m\u001b[1;33m.\u001b[0m\u001b[0mget\u001b[0m\u001b[1;33m(\u001b[0m\u001b[1;34m\"alternative\"\u001b[0m\u001b[1;33m,\u001b[0m \u001b[1;33m[\u001b[0m\u001b[1;33m]\u001b[0m\u001b[1;33m)\u001b[0m\u001b[1;33m)\u001b[0m \u001b[1;33m==\u001b[0m \u001b[1;36m0\u001b[0m\u001b[1;33m:\u001b[0m \u001b[1;32mraise\u001b[0m \u001b[0mUnknownValueError\u001b[0m\u001b[1;33m(\u001b[0m\u001b[1;33m)\u001b[0m\u001b[1;33m\u001b[0m\u001b[1;33m\u001b[0m\u001b[0m\n\u001b[0m\u001b[0;32m    859\u001b[0m \u001b[1;33m\u001b[0m\u001b[0m\n\u001b[0;32m    860\u001b[0m         \u001b[1;32mif\u001b[0m \u001b[1;34m\"confidence\"\u001b[0m \u001b[1;32min\u001b[0m \u001b[0mactual_result\u001b[0m\u001b[1;33m[\u001b[0m\u001b[1;34m\"alternative\"\u001b[0m\u001b[1;33m]\u001b[0m\u001b[1;33m:\u001b[0m\u001b[1;33m\u001b[0m\u001b[1;33m\u001b[0m\u001b[0m\n",
      "\u001b[1;31mUnknownValueError\u001b[0m: "
     ]
    }
   ],
   "source": [
    "recog1 = sr.Recognizer()\n",
    "recog2 = sr.Recognizer()\n",
    "recog3 = sr.Recognizer()\n",
    "\n",
    "\n",
    "with sr.Microphone() as source:\n",
    "    print(\"Hi I am Flipkart, \")\n",
    "    print(\"How May I Help You ?\")\n",
    "    #rate, data = recog1.listen(source)\n",
    "    #noisy_part = data[10000:15000]\n",
    "    #audio = nr.reduce_noise(audio_clip=data, noise_clip=noisy_part, verbose=True)\n",
    "    audio = recog1.listen(source)\n",
    "if 'Hey flipkart' in recog2.recognize_google(audio):\n",
    "    recog2 = sr.Recognizer()\n",
    "    url ='https://www.flipkart.com/search?q='\n",
    "\n",
    "\n",
    "    with sr.Microphone() as source:\n",
    "        print('What are you searching for....')\n",
    "       # rate, data = recog2.listen(source)\n",
    "       # noisy_part = data[10000:15000]\n",
    "        #audio = nr.reduce_noise(audio_clip=data, noise_clip=noisy_part, verbose=True)\n",
    "        audio = recog2.listen(source)\n",
    "\n",
    "        try:\n",
    "            get_keyword = recog1.recognize_google(audio)\n",
    "            print(get_keyword)\n",
    "            wb.get().open_new(url+get_keyword)\n",
    "        except sr.UnknownValueError:\n",
    "                print(\"Sorry I can't Understand\")\n",
    "        except sr.RequestError as e:\n",
    "                print(\"Please try to speak one more time\".format(e))"
   ]
  },
  {
   "cell_type": "code",
   "execution_count": 8,
   "metadata": {},
   "outputs": [
    {
     "name": "stdout",
     "output_type": "stream",
     "text": [
      "Requirement already satisfied: pyaudio in d:\\downloads\\anaconda\\lib\\site-packages (0.2.11)\n",
      "Note: you may need to restart the kernel to use updated packages.\n"
     ]
    }
   ],
   "source": [
    "pip install pyaudio"
   ]
  },
  {
   "cell_type": "code",
   "execution_count": 9,
   "metadata": {},
   "outputs": [
    {
     "ename": "NameError",
     "evalue": "name 'lsusb' is not defined",
     "output_type": "error",
     "traceback": [
      "\u001b[1;31m---------------------------------------------------------------------------\u001b[0m",
      "\u001b[1;31mNameError\u001b[0m                                 Traceback (most recent call last)",
      "\u001b[1;32m<ipython-input-9-efd6d086fe09>\u001b[0m in \u001b[0;36m<module>\u001b[1;34m\u001b[0m\n\u001b[1;32m----> 1\u001b[1;33m \u001b[0mlsusb\u001b[0m\u001b[1;33m\u001b[0m\u001b[1;33m\u001b[0m\u001b[0m\n\u001b[0m",
      "\u001b[1;31mNameError\u001b[0m: name 'lsusb' is not defined"
     ]
    }
   ],
   "source": [
    "lsusb"
   ]
  },
  {
   "cell_type": "code",
   "execution_count": 14,
   "metadata": {},
   "outputs": [
    {
     "ename": "NameError",
     "evalue": "name 'device_id' is not defined",
     "output_type": "error",
     "traceback": [
      "\u001b[1;31m---------------------------------------------------------------------------\u001b[0m",
      "\u001b[1;31mNameError\u001b[0m                                 Traceback (most recent call last)",
      "\u001b[1;32m<ipython-input-14-3172ce6708a5>\u001b[0m in \u001b[0;36m<module>\u001b[1;34m\u001b[0m\n\u001b[0;32m     26\u001b[0m \u001b[1;31m#which device ID to specifically look for incase the microphone\u001b[0m\u001b[1;33m\u001b[0m\u001b[1;33m\u001b[0m\u001b[1;33m\u001b[0m\u001b[0m\n\u001b[0;32m     27\u001b[0m \u001b[1;31m#is not working, an error will pop up saying \"device_id undefined\"\u001b[0m\u001b[1;33m\u001b[0m\u001b[1;33m\u001b[0m\u001b[1;33m\u001b[0m\u001b[0m\n\u001b[1;32m---> 28\u001b[1;33m \u001b[1;32mwith\u001b[0m \u001b[0msr\u001b[0m\u001b[1;33m.\u001b[0m\u001b[0mMicrophone\u001b[0m\u001b[1;33m(\u001b[0m\u001b[0mdevice_index\u001b[0m \u001b[1;33m=\u001b[0m \u001b[0mdevice_id\u001b[0m\u001b[1;33m,\u001b[0m \u001b[0msample_rate\u001b[0m \u001b[1;33m=\u001b[0m \u001b[0msample_rate\u001b[0m\u001b[1;33m,\u001b[0m\u001b[0mchunk_size\u001b[0m \u001b[1;33m=\u001b[0m \u001b[0mchunk_size\u001b[0m\u001b[1;33m)\u001b[0m \u001b[1;32mas\u001b[0m \u001b[0msource\u001b[0m\u001b[1;33m:\u001b[0m\u001b[1;33m\u001b[0m\u001b[1;33m\u001b[0m\u001b[0m\n\u001b[0m\u001b[0;32m     29\u001b[0m     \u001b[1;31m#wait for a second to let the recognizer adjust the\u001b[0m\u001b[1;33m\u001b[0m\u001b[1;33m\u001b[0m\u001b[1;33m\u001b[0m\u001b[0m\n\u001b[0;32m     30\u001b[0m     \u001b[1;31m#energy threshold based on the surrounding noise level\u001b[0m\u001b[1;33m\u001b[0m\u001b[1;33m\u001b[0m\u001b[1;33m\u001b[0m\u001b[0m\n",
      "\u001b[1;31mNameError\u001b[0m: name 'device_id' is not defined"
     ]
    }
   ],
   "source": [
    "import speech_recognition as sr \n",
    "  \n",
    "#enter the name of usb microphone that you found \n",
    "#using lsusb \n",
    "#the following name is only used as an example \n",
    "mic_name = \"USB Device 0x46d:0x825: Audio (hw:1, 0)\"\n",
    "#Sample rate is how often values are recorded \n",
    "sample_rate = 48000\n",
    "#Chunk is like a buffer. It stores 2048 samples (bytes of data) \n",
    "#here.  \n",
    "#it is advisable to use powers of 2 such as 1024 or 2048 \n",
    "chunk_size = 2048\n",
    "#Initialize the recognizer \n",
    "r = sr.Recognizer() \n",
    "  \n",
    "#generate a list of all audio cards/microphones \n",
    "mic_list = sr.Microphone.list_microphone_names() \n",
    "  \n",
    "#the following loop aims to set the device ID of the mic that \n",
    "#we specifically want to use to avoid ambiguity. \n",
    "for i, microphone_name in enumerate(mic_list): \n",
    "    if microphone_name == mic_name: \n",
    "        device_id = i \n",
    "  \n",
    "#use the microphone as source for input. Here, we also specify  \n",
    "#which device ID to specifically look for incase the microphone  \n",
    "#is not working, an error will pop up saying \"device_id undefined\" \n",
    "with sr.Microphone(device_index = device_id, sample_rate = sample_rate,chunk_size = chunk_size) as source: \n",
    "    #wait for a second to let the recognizer adjust the  \n",
    "    #energy threshold based on the surrounding noise level \n",
    "    r.adjust_for_ambient_noise(source) \n",
    "    print (\"Say Something\")\n",
    "    #listens for the user's input \n",
    "    audio = r.listen(source) \n",
    "          \n",
    "    try: \n",
    "        text = r.recognize_google(audio) \n",
    "        print (\"you said: \" + text) \n",
    "      \n",
    "    #error occurs when google could not understand what was said \n",
    "      \n",
    "    except sr.UnknownValueError: \n",
    "        print(\"Google Speech Recognition could not understand audio\") \n",
    "      \n",
    "    except sr.RequestError as e: \n",
    "        print(\"Could not request results from Google Speech Recognition service; {0}\".format(e))"
   ]
  },
  {
   "cell_type": "code",
   "execution_count": null,
   "metadata": {},
   "outputs": [],
   "source": []
  }
 ],
 "metadata": {
  "kernelspec": {
   "display_name": "Python 3",
   "language": "python",
   "name": "python3"
  },
  "language_info": {
   "codemirror_mode": {
    "name": "ipython",
    "version": 3
   },
   "file_extension": ".py",
   "mimetype": "text/x-python",
   "name": "python",
   "nbconvert_exporter": "python",
   "pygments_lexer": "ipython3",
   "version": "3.7.6"
  }
 },
 "nbformat": 4,
 "nbformat_minor": 4
}
